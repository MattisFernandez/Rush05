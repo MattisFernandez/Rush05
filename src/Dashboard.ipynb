{
 "cells": [
  {
   "cell_type": "code",
   "execution_count": 18,
   "id": "997c148a-ed1c-48f1-8f99-5d75114670a7",
   "metadata": {},
   "outputs": [],
   "source": [
    "import pandas as pd\n",
    "import numpy as np\n",
    "import datetime\n",
    "from datetime import date"
   ]
  },
  {
   "cell_type": "code",
   "execution_count": 20,
   "id": "ed282c19-b1a9-4cac-ba70-f5ff05dc4fd2",
   "metadata": {},
   "outputs": [],
   "source": [
    "# Lecture .csv\n",
    "\n",
    "df = pd.read_csv(\"Camp_Market.csv\", sep=';')"
   ]
  },
  {
   "cell_type": "code",
   "execution_count": 21,
   "id": "11cee639-6cfd-4d98-8378-9f0a74a89a2f",
   "metadata": {},
   "outputs": [],
   "source": [
    "# Encodage One-Hot\n",
    "\n",
    "data_encoded = pd.get_dummies(df, columns=['Education'])\n",
    "\n",
    "#var Living_with\n",
    "def love_status(status):\n",
    "    if status == \"Single\" or status == \"Widow\" or status == \"Divorced\":\n",
    "        return 'Single'\n",
    "    elif status == \"Together\" or status == \"Married\":\n",
    "        return 'In a relationship'\n",
    "data_encoded[\"Living_with\"] = df[\"Marital_Status\"].apply(love_status)\n",
    "\n",
    "#var Family_size\n",
    "data_encoded[\"Family_size\"] = data_encoded[\"Kidhome\"] + np.where(\n",
    "    (data_encoded[\"Marital_Status\"] == \"Together\") | (data_encoded[\"Marital_Status\"] == \"Married\"), \n",
    "    2, \n",
    "    1\n",
    ")\n",
    "\n",
    "# var Customer_for nombre de jours depuis que le client a commencé ses achats au magasin depuis la dernière date enregistrée\n",
    "today = pd.Timestamp(datetime.date.today())\n",
    "df['Customer_for'] = (today - pd.to_datetime(df['Dt_Customer']))\n",
    "\n",
    "# var Age\n",
    "data_encoded[\"Age\"] = date.today().year - data_encoded[\"Year_Birth\"]\n",
    "\n",
    "#var Spend\n",
    "data_encoded[\"Spent\"] = data_encoded[[col for col in df.columns if col.startswith('Mnt')]].sum(axis=1)\n",
    "\n",
    "#var Is_parent\n",
    "data_encoded[\"Is_parent\"] = (data_encoded.Kidhome) > 0\n",
    "\n",
    "#var Children\n",
    "data_encoded[\"Children\"] = data_encoded.Kidhome\n",
    "\n",
    "# drop des colonnes non utilisées\n",
    "data_encoded = data_encoded.drop(columns=[\"Dt_Customer\", \"Marital_Status\", \"Dt_Customer\", \"Year_Birth\", \"Kidhome\"])"
   ]
  },
  {
   "cell_type": "code",
   "execution_count": 22,
   "id": "ebbaef98-6aa5-4afa-9a83-68d36fb57037",
   "metadata": {},
   "outputs": [
    {
     "name": "stdout",
     "output_type": "stream",
     "text": [
      "         ID   Income  Teenhome  Recency  MntWines  MntFruits  MntMeatProducts  \\\n",
      "0      5524  58138.0         0       58       635         88              546   \n",
      "1      2174  46344.0         1       38        11          1                6   \n",
      "2      4141  71613.0         0       26       426         49              127   \n",
      "3      6182  26646.0         0       26        11          4               20   \n",
      "4      5324  58293.0         0       94       173         43              118   \n",
      "...     ...      ...       ...      ...       ...        ...              ...   \n",
      "2235  10870  61223.0         1       46       709         43              182   \n",
      "2236   4001  64014.0         1       56       406          0               30   \n",
      "2237   7270  56981.0         0       91       908         48              217   \n",
      "2238   8235  69245.0         1        8       428         30              214   \n",
      "2239   9405  52869.0         1       40        84          3               61   \n",
      "\n",
      "      MntFishProducts  MntSweetProducts  MntGoldProds  ...  Education_Basic  \\\n",
      "0                 172                88            88  ...            False   \n",
      "1                   2                 1             6  ...            False   \n",
      "2                 111                21            42  ...            False   \n",
      "3                  10                 3             5  ...            False   \n",
      "4                  46                27            15  ...            False   \n",
      "...               ...               ...           ...  ...              ...   \n",
      "2235               42               118           247  ...            False   \n",
      "2236                0                 0             8  ...            False   \n",
      "2237               32                12            24  ...            False   \n",
      "2238               80                30            61  ...            False   \n",
      "2239                2                 1            21  ...            False   \n",
      "\n",
      "      Education_Graduation  Education_Master  Education_PhD  \\\n",
      "0                     True             False          False   \n",
      "1                     True             False          False   \n",
      "2                     True             False          False   \n",
      "3                     True             False          False   \n",
      "4                    False             False           True   \n",
      "...                    ...               ...            ...   \n",
      "2235                  True             False          False   \n",
      "2236                 False             False           True   \n",
      "2237                  True             False          False   \n",
      "2238                 False              True          False   \n",
      "2239                 False             False           True   \n",
      "\n",
      "            Living_with  Family_size  Age  Spent  Is_parent  Children  \n",
      "0                Single            1   66   1617      False         0  \n",
      "1                Single            2   69     27       True         1  \n",
      "2     In a relationship            2   58    776      False         0  \n",
      "3     In a relationship            3   39     53       True         1  \n",
      "4     In a relationship            3   42    422       True         1  \n",
      "...                 ...          ...  ...    ...        ...       ...  \n",
      "2235  In a relationship            2   56   1341      False         0  \n",
      "2236  In a relationship            4   77    444       True         2  \n",
      "2237             Single            1   42   1241      False         0  \n",
      "2238  In a relationship            2   67    843      False         0  \n",
      "2239  In a relationship            3   69    172       True         1  \n",
      "\n",
      "[2240 rows x 35 columns]\n"
     ]
    }
   ],
   "source": [
    "print(data_encoded)"
   ]
  },
  {
   "cell_type": "code",
   "execution_count": null,
   "id": "e2098c59-6eef-40bb-9cd2-8412c812df76",
   "metadata": {},
   "outputs": [],
   "source": []
  }
 ],
 "metadata": {
  "kernelspec": {
   "display_name": "Python 3 (ipykernel)",
   "language": "python",
   "name": "python3"
  },
  "language_info": {
   "codemirror_mode": {
    "name": "ipython",
    "version": 3
   },
   "file_extension": ".py",
   "mimetype": "text/x-python",
   "name": "python",
   "nbconvert_exporter": "python",
   "pygments_lexer": "ipython3",
   "version": "3.12.0"
  }
 },
 "nbformat": 4,
 "nbformat_minor": 5
}
