{
 "cells": [
  {
   "cell_type": "code",
   "execution_count": 2,
   "metadata": {},
   "outputs": [],
   "source": [
    "import pandas as pd\n",
    "import numpy as np\n",
    "import datetime\n",
    "from datetime import date\n",
    "import matplotlib.pyplot as plt\n",
    "import seaborn as sns"
   ]
  },
  {
   "cell_type": "code",
   "execution_count": 3,
   "metadata": {},
   "outputs": [],
   "source": [
    "# Lecture .csv\n",
    "\n",
    "df = pd.read_csv(\"Camp_Market.csv\", sep=';')"
   ]
  },
  {
   "cell_type": "code",
   "execution_count": 4,
   "metadata": {},
   "outputs": [],
   "source": [
    "# Encodage One-Hot\n",
    "\n",
    "data_encoded = pd.get_dummies(df, columns=['Education'])\n",
    "\n",
    "#var Living_with\n",
    "def love_status(status):\n",
    "    if status == \"Single\" or status == \"Widow\" or status == \"Divorced\":\n",
    "        return 'Single'\n",
    "    elif status == \"Together\" or status == \"Married\":\n",
    "        return 'In a relationship'\n",
    "data_encoded[\"Living_with\"] = df[\"Marital_Status\"].apply(love_status)\n",
    "\n",
    "#var Family_size\n",
    "data_encoded[\"Family_size\"] = data_encoded[\"Kidhome\"] + np.where(\n",
    "    (data_encoded[\"Marital_Status\"] == \"Together\") | (data_encoded[\"Marital_Status\"] == \"Married\"), \n",
    "    2, \n",
    "    1\n",
    ")\n",
    "\n",
    "# var Customer_for nombre de jours depuis que le client a commencé ses achats au magasin depuis la dernière date enregistrée\n",
    "today = pd.Timestamp(datetime.date.today())\n",
    "data_encoded[\"Customer_for\"] = (today - pd.to_datetime(df[\"Dt_Customer\"]))\n",
    "\n",
    "# var Age\n",
    "data_encoded[\"Age\"] = date.today().year - data_encoded[\"Year_Birth\"]\n",
    "\n",
    "#var Spend\n",
    "data_encoded[\"Spent\"] = data_encoded[[col for col in df.columns if col.startswith('Mnt')]].sum(axis=1)\n",
    "\n",
    "#var Is_parent\n",
    "data_encoded[\"Is_parent\"] = np.where((data_encoded[\"Kidhome\"] > 0) | (data_encoded[\"Teenhome\"] > 0), 1, 0)\n",
    "\n",
    "#var Children\n",
    "data_encoded[\"Children\"] = data_encoded.Kidhome + data_encoded.Teenhome\n",
    "\n",
    "# drop des colonnes non utilisées\n",
    "data_encoded = data_encoded.drop(columns=[\"Dt_Customer\", \"Marital_Status\", \"Dt_Customer\", \"Year_Birth\", \"Kidhome\", \"Teenhome\", \"Living_with\"])"
   ]
  },
  {
   "cell_type": "code",
   "execution_count": 5,
   "metadata": {},
   "outputs": [],
   "source": [
    "# Calcul de la matrice de corrélation pour le dataframe encodé\n",
    "corr_matrix_encoded = data_encoded.corr()\n",
    "\n",
    "#Remplacement NaN par 0\n",
    "data_encoded = data_encoded.fillna(0)"
   ]
  },
  {
   "cell_type": "code",
   "execution_count": null,
   "metadata": {},
   "outputs": [],
   "source": []
  }
 ],
 "metadata": {
  "kernelspec": {
   "display_name": "Python 3 (ipykernel)",
   "language": "python",
   "name": "python3"
  },
  "language_info": {
   "codemirror_mode": {
    "name": "ipython",
    "version": 3
   },
   "file_extension": ".py",
   "mimetype": "text/x-python",
   "name": "python",
   "nbconvert_exporter": "python",
   "pygments_lexer": "ipython3",
   "version": "3.11.3"
  }
 },
 "nbformat": 4,
 "nbformat_minor": 4
}
