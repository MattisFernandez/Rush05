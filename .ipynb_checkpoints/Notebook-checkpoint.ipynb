{
 "cells": [
  {
   "cell_type": "code",
   "execution_count": 9,
   "metadata": {},
   "outputs": [],
   "source": [
    "import pandas as pd\n",
    "import numpy as np\n",
    "import datetime\n",
    "from datetime import date\n",
    "import matplotlib.pyplot as plt\n",
    "import seaborn as sns"
   ]
  },
  {
   "cell_type": "code",
   "execution_count": 10,
   "metadata": {},
   "outputs": [],
   "source": [
    "# Lecture .csv\n",
    "\n",
    "df = pd.read_csv(\"Camp_Market.csv\", sep=';')"
   ]
  },
  {
   "cell_type": "code",
   "execution_count": 19,
   "metadata": {},
   "outputs": [
    {
     "name": "stdout",
     "output_type": "stream",
     "text": [
      "     ID   Income  Recency  MntWines  MntFruits  MntMeatProducts  \\\n",
      "0  5524  58138.0       58       635         88              546   \n",
      "1  2174  46344.0       38        11          1                6   \n",
      "2  4141  71613.0       26       426         49              127   \n",
      "3  6182  26646.0       26        11          4               20   \n",
      "4  5324  58293.0       94       173         43              118   \n",
      "\n",
      "   MntFishProducts  MntSweetProducts  MntGoldProds  NumDealsPurchases  ...  \\\n",
      "0              172                88            88                  3  ...   \n",
      "1                2                 1             6                  2  ...   \n",
      "2              111                21            42                  1  ...   \n",
      "3               10                 3             5                  2  ...   \n",
      "4               46                27            15                  5  ...   \n",
      "\n",
      "   Z_CostContact  Z_Revenue  Response  Family_size  Customer_for  Age  Spent  \\\n",
      "0              3         11         1            1     4052 days   66   1617   \n",
      "1              3         11         0            2     3502 days   69     27   \n",
      "2              3         11         0            2     3701 days   58    776   \n",
      "3              3         11         0            3     3528 days   39     53   \n",
      "4              3         11         0            3     3550 days   42    422   \n",
      "\n",
      "   Is_parent  Children  Education2  \n",
      "0          0         0           1  \n",
      "1          1         2           1  \n",
      "2          0         0           1  \n",
      "3          1         1           1  \n",
      "4          1         1           0  \n",
      "\n",
      "[5 rows x 30 columns]\n"
     ]
    }
   ],
   "source": [
    "# Encodage One-Hot\n",
    "data_encoded = pd.get_dummies(df, columns=['Education'])\n",
    "\n",
    "#var Living_with\n",
    "def love_status(status):\n",
    "    if status == \"Single\" or status == \"Widow\" or status == \"Divorced\":\n",
    "        return 'Single'\n",
    "    elif status == \"Together\" or status == \"Married\":\n",
    "        return 'In a relationship'\n",
    "data_encoded[\"Living_with\"] = df[\"Marital_Status\"].apply(love_status)\n",
    "\n",
    "#var Family_size\n",
    "data_encoded[\"Family_size\"] = data_encoded[\"Kidhome\"] + np.where(\n",
    "    (data_encoded[\"Marital_Status\"] == \"Together\") | (data_encoded[\"Marital_Status\"] == \"Married\"), \n",
    "    2, \n",
    "    1\n",
    ")\n",
    "\n",
    "# var Customer_for nombre de jours depuis que le client a commencé ses achats au magasin depuis la dernière date enregistrée\n",
    "today = pd.Timestamp(datetime.date.today())\n",
    "data_encoded[\"Customer_for\"] = (today - pd.to_datetime(df[\"Dt_Customer\"]))\n",
    "\n",
    "# var Age\n",
    "data_encoded[\"Age\"] = date.today().year - data_encoded[\"Year_Birth\"]\n",
    "\n",
    "#var Spend\n",
    "data_encoded[\"Spent\"] = data_encoded[[col for col in df.columns if col.startswith('Mnt')]].sum(axis=1)\n",
    "\n",
    "#var Is_parent\n",
    "data_encoded[\"Is_parent\"] = np.where((data_encoded[\"Kidhome\"] > 0) | (data_encoded[\"Teenhome\"] > 0), 1, 0)\n",
    "\n",
    "#var Children\n",
    "data_encoded[\"Children\"] = data_encoded.Kidhome + data_encoded.Teenhome\n",
    "\n",
    "#var education2\n",
    "\n",
    "def edu_level(level):\n",
    "    if (level == \"Master\" or level == \"Phd\") :\n",
    "        return 2\n",
    "    elif(level == \"Graduation\") :\n",
    "        return 1\n",
    "    else :\n",
    "        return 0\n",
    "\n",
    "data_encoded[\"Education2\"] = df[\"Education\"].apply(edu_level)\n",
    "\n",
    "# drop des colonnes non utilisées\n",
    "data_encoded = data_encoded.drop(columns=[\"Dt_Customer\", \"Marital_Status\", \"Dt_Customer\", \"Year_Birth\", \"Kidhome\", \"Teenhome\", \"Living_with\", \"Education_Master\", \"Education_PhD\", \"Education_Graduation\", \"Education_Basic\", \"Education_2n Cycle\"])\n",
    "print(data_encoded.head(5))"
   ]
  },
  {
   "cell_type": "code",
   "execution_count": 16,
   "metadata": {},
   "outputs": [],
   "source": [
    "# Calcul de la matrice de corrélation pour le dataframe encodé\n",
    "corr_matrix_encoded = data_encoded.corr()\n",
    "\n",
    "#Remplacement NaN par 0\n",
    "data_encoded = data_encoded.fillna(0)"
   ]
  },
  {
   "cell_type": "code",
   "execution_count": null,
   "metadata": {},
   "outputs": [],
   "source": []
  }
 ],
 "metadata": {
  "kernelspec": {
   "display_name": "Python 3 (ipykernel)",
   "language": "python",
   "name": "python3"
  },
  "language_info": {
   "codemirror_mode": {
    "name": "ipython",
    "version": 3
   },
   "file_extension": ".py",
   "mimetype": "text/x-python",
   "name": "python",
   "nbconvert_exporter": "python",
   "pygments_lexer": "ipython3",
   "version": "3.12.0"
  }
 },
 "nbformat": 4,
 "nbformat_minor": 4
}
